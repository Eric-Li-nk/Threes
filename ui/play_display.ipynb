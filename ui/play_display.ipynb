{
 "cells": [
  {
   "cell_type": "code",
   "execution_count": 65,
   "metadata": {},
   "outputs": [],
   "source": [
    "def simple_display(plateau):\n",
    "    \"\"\"Affichage du tableau de façon simplifié\"\"\"\n",
    "    ui = ''\n",
    "    num_tuile = 1\n",
    "    while num_tuile < len(plateau['tiles']) + 1:\n",
    "        ui += str(plateau['tiles'][num_tuile - 1]).rjust(5)\n",
    "        if num_tuile % 4 == 0:\n",
    "            ui += '\\n'\n",
    "        num_tuile += 1\n",
    "    print(ui)\n",
    "\n",
    "def medium_display(plateau):\n",
    "    \"\"\"Affichage du plateau avec délimitations textuelles des cases\"\"\"\n",
    "    ui = '*****************************\\n'\n",
    "    num_tuile = 1\n",
    "    while num_tuile < len(plateau['tiles']) + 1:\n",
    "        ui += \"*\" + str(plateau['tiles'][num_tuile - 1]).rjust(4) + '  '\n",
    "        if num_tuile % 4 == 0:\n",
    "            ui += '*\\n*****************************\\n'\n",
    "        num_tuile += 1\n",
    "    print(ui)\n",
    "\n",
    "def full_display(plateau):\n",
    "    \"\"\"Affichage en couleurs\"\"\""
   ]
  },
  {
   "cell_type": "code",
   "execution_count": 63,
   "metadata": {},
   "outputs": [
    {
     "name": "stdout",
     "output_type": "stream",
     "text": [
      "    6   24    3  152\n",
      "    1    2    6    2\n",
      "    1    2    2  155\n",
      "    1    1    0    1\n",
      "\n"
     ]
    }
   ],
   "source": [
    "p = {'n':4,'nb_cases_libres':6,'tiles':[6,24,3,152,1,2,6,2,1,2,2,155,1,1,0,1]}\n",
    "simple_display(p)"
   ]
  },
  {
   "cell_type": "code",
   "execution_count": 64,
   "metadata": {},
   "outputs": [
    {
     "name": "stdout",
     "output_type": "stream",
     "text": [
      "*****************************\n",
      "*   6  *  24  *   3  * 152  *\n",
      "*****************************\n",
      "*   1  *   2  *   6  *   2  *\n",
      "*****************************\n",
      "*   1  *   2  *   2  * 155  *\n",
      "*****************************\n",
      "*   1  *   1  *   0  *   1  *\n",
      "*****************************\n",
      "\n"
     ]
    }
   ],
   "source": [
    "p = {'n':4,'nb_cases_libres':6,'tiles':[6,24,3,152,1,2,6,2,1,2,2,155,1,1,0,1]}\n",
    "medium_display(p)"
   ]
  }
 ],
 "metadata": {
  "kernelspec": {
   "display_name": "Python 3",
   "language": "python",
   "name": "python3"
  },
  "language_info": {
   "codemirror_mode": {
    "name": "ipython",
    "version": 3
   },
   "file_extension": ".py",
   "mimetype": "text/x-python",
   "name": "python",
   "nbconvert_exporter": "python",
   "pygments_lexer": "ipython3",
   "version": "3.6.9"
  }
 },
 "nbformat": 4,
 "nbformat_minor": 2
}
