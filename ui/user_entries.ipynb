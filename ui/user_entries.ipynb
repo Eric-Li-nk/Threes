{
 "cells": [
  {
   "cell_type": "code",
   "execution_count": 1,
   "metadata": {},
   "outputs": [
    {
     "name": "stdout",
     "output_type": "stream",
     "text": [
      "New game - Load game - Save - Continue - Quit ( Valeur accepté : N,L,S,C,Q ) : a\n",
      "Saisissez une valeur valable ( Valeur accepté : h,b,d,g,m ) : s\n"
     ]
    }
   ],
   "source": [
    "def get_user_move():\n",
    "    \"\"\"\n",
    "    Saisi et retourne le coup joué par le joueur parmi les choix :\n",
    "    returne Choix de l'utilisateur ( en minuscule )\n",
    "    \n",
    "    - \"h\" pour haut,\n",
    "    - \"b\" pour bas,\n",
    "    - \"d\" pour droite,\n",
    "    - \"g\" pour gauche,\n",
    "    - \"m\" pour menu principal.\n",
    "    \"\"\"\n",
    "    saisie = input(\"Choississez une direction de déplacement ou le menu principal ( Valeur accepté : h,b,d,g,m ) : \")\n",
    "    saisie = saisie.lower()\n",
    "    while saisie != \"h\" and saisie != \"b\" and saisie != \"d\" and saisie != \"g\" and saisie != \"m\":\n",
    "        saisie = input(\"Saisissez une valeur valable ( Valeur accepté : h,b,d,g,m ) : \")\n",
    "        saisie = saisie.lower()\n",
    "    return saisie\n",
    "\n",
    "def get_user_menu(partie):\n",
    "    \"\"\"\n",
    "    Saisi et retourne le choix du joueur dans le menu principal\n",
    "    param partie : Partie du jeu en cours ou None sinon\n",
    "    return Choix de l'utilisateur ( en majuscule )\n",
    "    \n",
    "    - 'N' : Commencer une nouvelle partie,\n",
    "    - 'L' : Charger une partie,\n",
    "    - 'S' : Sauvegarder la partie en cours ( si le paramètre partie correspond à une partie en cours )\n",
    "    - 'C' : Reprendre la partie en cours ( si le paramètre partie correspond à une partie en cours )\n",
    "    - 'Q' : Terminer le jeu.\n",
    "    \"\"\"\n",
    "    if partie == None:\n",
    "        saisie = input(\"New game - Load game - Quit ( Valeur accepté : N,L,Q ) : \")\n",
    "        saisie = saisie.upper()\n",
    "        while saisie != \"N\" and saisie != \"L\" and saisie != \"Q\":\n",
    "            saisie = input(\"Saisissez une valeur valable ( Valeur accepté : N,L,Q ) : \")\n",
    "            saisie = saisie.upper()\n",
    "    else:\n",
    "        saisie = input(\"New game - Load game - Save - Continue - Quit ( Valeur accepté : N,L,S,C,Q ) : \")\n",
    "        saisie = saisie.upper()\n",
    "        while saisie != \"N\" and saisie != \"L\" and saisie != \"S\" and saisie != \"C\" and saisie != \"Q\":\n",
    "            saisie = input(\"Saisissez une valeur valable ( Valeur accepté : h,b,d,g,m ) : \")\n",
    "            saisie = saisie.upper()\n",
    "    return saisie"
   ]
  }
 ],
 "metadata": {
  "kernelspec": {
   "display_name": "Python 3",
   "language": "python",
   "name": "python3"
  },
  "language_info": {
   "codemirror_mode": {
    "name": "ipython",
    "version": 3
   },
   "file_extension": ".py",
   "mimetype": "text/x-python",
   "name": "python",
   "nbconvert_exporter": "python",
   "pygments_lexer": "ipython3",
   "version": "3.6.9"
  }
 },
 "nbformat": 4,
 "nbformat_minor": 2
}
