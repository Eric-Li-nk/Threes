{
 "cells": [
  {
   "cell_type": "code",
   "execution_count": 6,
   "metadata": {},
   "outputs": [],
   "source": [
    "def check_indice(plateau, indice):\n",
    "    \"\"\"Retourne True si indice correspond à un indice valide de case pour le plateau (entre 0 et n-1)\"\"\"\n",
    "    return indice <= plateau[\"n\"] - 1 and indice >= 0 \n",
    "\n",
    "def check_room(plateau, ligne, colonne):\n",
    "    \"\"\"Retourne True si (ligne,colonne) est une case du plateau (ligne et colonne sont des indices valides)\"\"\"\n",
    "    return check_indice(plateau,ligne) and check_indice(plateau,colonne)\n",
    "\n",
    "def get_value(plateau,ligne,colonne):\n",
    "    \"\"\"Retourne la valeur de la case (ligne,colonne) Erreur si (ligne,colonne) n'est pas valide\"\"\"\n",
    "    return plateau['tiles'][colonne + ligne * plateau['n']]\n",
    "\n",
    "def set_value(plateau,ligne,colonne,valeur):\n",
    "    \"\"\"Affecte la valeur valeur dans la case (ligne,colonne) du plateau Erreur si (ligne,colonne) n'est pas une case valide \n",
    "       ou si valeur n'est pas supérieure ou égal à 0\n",
    "       Met aussi à jour le nombre de cases libres (sans tuile(s))\"\"\"\n",
    "    plateau['tiles'][colonne + ligne * plateau['n']] = valeur\n",
    "    if valeur != 0:\n",
    "        plateau['nb_cases_libres'] -= 1\n",
    "\n",
    "def is_room_empty(plateau,ligne,colonne):\n",
    "    \"\"\"Teste si une case du plateau est libre ou pas\n",
    "       retourne True si la case est libre, False sinon\"\"\"\n",
    "    return get_value(plateau,ligne,colonne) == 0\n"
   ]
  },
  {
   "cell_type": "code",
   "execution_count": 9,
   "metadata": {},
   "outputs": [
    {
     "name": "stdout",
     "output_type": "stream",
     "text": [
      "Test check_indice : ok\n",
      "Test check_room : ok\n",
      "Test get_value : ok\n",
      "Test set_value : ok\n"
     ]
    }
   ],
   "source": [
    "import sys\n",
    "sys.path.append(\"../\")\n",
    "from game.play import *\n",
    "\n",
    "def test_check_indice():\n",
    "    p = init_play()\n",
    "    assert check_indice(p,0)\n",
    "    assert check_indice(p,10) == False\n",
    "    assert check_indice(p,3)\n",
    "    assert check_indice(p,4) == False\n",
    "    assert check_indice(p,-1) == False\n",
    "    print(\"Test check_indice : ok\")\n",
    "    \n",
    "def test_check_room():\n",
    "    p = init_play()\n",
    "    assert check_room(p,2,1)\n",
    "    assert check_room(p,10,2) == False\n",
    "    assert check_room(p,-1,3) == False\n",
    "    assert check_room(p,3,3)\n",
    "    print(\"Test check_room : ok\")\n",
    "    \n",
    "def test_get_value():\n",
    "    p = {'n':4,'nb_cases_libres':6,'tiles':[6,2,3,2,0,2,6,2,0,2,2,0,1,0,0,0]}\n",
    "    assert get_value(p,0,0) == 6\n",
    "    assert get_value(p,2,3) == 0\n",
    "    assert get_value(p,1,3) == 2\n",
    "    assert get_value(p,3,0) == 1\n",
    "    print(\"Test get_value : ok\")\n",
    "\n",
    "def test_set_value():\n",
    "    p = init_play()\n",
    "    set_value(p,0,0,1)\n",
    "    assert p['tiles'][0] == 1\n",
    "    set_value(p,1,2,0)\n",
    "    assert p['tiles'][6] == 0\n",
    "    set_value(p,2,3,6)\n",
    "    assert p['tiles'][11] == 6\n",
    "    assert p['nb_cases_libres'] == 14\n",
    "    print(\"Test set_value : ok\")\n",
    "    \n",
    "test_check_indice()\n",
    "test_check_room()\n",
    "test_get_value()\n",
    "test_set_value()"
   ]
  }
 ],
 "metadata": {
  "kernelspec": {
   "display_name": "Python 3",
   "language": "python",
   "name": "python3"
  },
  "language_info": {
   "codemirror_mode": {
    "name": "ipython",
    "version": 3
   },
   "file_extension": ".py",
   "mimetype": "text/x-python",
   "name": "python",
   "nbconvert_exporter": "python",
   "pygments_lexer": "ipython3",
   "version": "3.6.9"
  }
 },
 "nbformat": 4,
 "nbformat_minor": 2
}
