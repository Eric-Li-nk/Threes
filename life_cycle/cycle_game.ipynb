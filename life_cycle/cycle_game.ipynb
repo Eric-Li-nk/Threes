{
 "cells": [
  {
   "cell_type": "code",
   "execution_count": 1,
   "metadata": {},
   "outputs": [],
   "source": [
    "import sys\n",
    "sys.path.append(\"../\")\n",
    "from tiles.tiles_moves import *\n",
    "\n",
    "def is_game_over(plateau):\n",
    "    \"\"\"Retourne True si la partie est terminée, False sinon\"\"\"\n",
    "    #S'il y'a au moins une case vide, le jeu n'est pas terminé \n",
    "    if get_nb_empty_rooms(plateau)!=0:\n",
    "        return False\n",
    "    \n",
    "    #Alors le plateau est plein on procéde anisi\n",
    "    else:\n",
    "        # On verifie d'abord sur les lignes\n",
    "        #S'il existe deux tuiles qui peuvent se fusionner\n",
    "        #Dès qu'il en existe la fonction s'arrête et retourne False\n",
    "        i=0\n",
    "        while i<4:\n",
    "            j=0\n",
    "            while j<3:\n",
    "                x=get_value(plateau,i,j)\n",
    "                y=get_value(plateau,i,j+1)\n",
    "                if (x==1 and y==2) or (x==2 and y==1):\n",
    "                    return False\n",
    "                elif x%3==0 and x==y:\n",
    "                    return False\n",
    "                j+=1\n",
    "            i+=1\n",
    "        # S'il y en a pas on verifie d'abord avec les colonnes\n",
    "        #C'est la même procédure avec les lignes\n",
    "        i=0\n",
    "        while i<4:\n",
    "            j=0\n",
    "            while j<3:\n",
    "                x=get_value(plateau,j,i)\n",
    "                y=get_value(plateau,j+1,i)\n",
    "                if (x==1 and y==2) or (x==2 and y==1):\n",
    "                    return False\n",
    "                elif x%3==0 and x==y:\n",
    "                    return False\n",
    "                j+=1\n",
    "            i+=1\n",
    "    return True  \n",
    "\n",
    "def get_score(plateau):\n",
    "    \"\"\"Retourne le score du plateau\"\"\"\n",
    "    score = 0\n",
    "    i = 0\n",
    "    while i < len(plateau['tiles']):\n",
    "        score += plateau['tiles'][i]\n",
    "        i += 1\n",
    "    return score\n"
   ]
  },
  {
   "cell_type": "code",
   "execution_count": 3,
   "metadata": {},
   "outputs": [
    {
     "data": {
      "text/plain": [
       "False"
      ]
     },
     "execution_count": 3,
     "metadata": {},
     "output_type": "execute_result"
    }
   ],
   "source": [
    "p = {'n':4,'nb_cases_libres':6,'tiles':[2,2,2,2,3,6,6,2,1,1,2,1,2,1,2,1]}\n",
    "is_game_over(p)"
   ]
  }
 ],
 "metadata": {
  "kernelspec": {
   "display_name": "Python 3",
   "language": "python",
   "name": "python3"
  },
  "language_info": {
   "codemirror_mode": {
    "name": "ipython",
    "version": 3
   },
   "file_extension": ".py",
   "mimetype": "text/x-python",
   "name": "python",
   "nbconvert_exporter": "python",
   "pygments_lexer": "ipython3",
   "version": "3.6.9"
  }
 },
 "nbformat": 4,
 "nbformat_minor": 2
}
